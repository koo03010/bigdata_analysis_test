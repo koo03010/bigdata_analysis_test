{
 "cells": [
  {
   "cell_type": "markdown",
   "metadata": {},
   "source": [
    "## 빅데이터분석기사 작업형 2"
   ]
  },
  {
   "cell_type": "markdown",
   "metadata": {},
   "source": [
    "자동차 보험가입 예측데이터\n",
    "- 데이터 설명 : 자동차 보험 가입 예측 (종속변수 Response: 1 : 가입 , 0 :미가입)\n",
    "- x_train: https://raw.githubusercontent.com/Datamanim/datarepo/main/insurance/x_train.csv\n",
    "- y_train: https://raw.githubusercontent.com/Datamanim/datarepo/main/insurance/y_train.csv\n",
    "- x_test: https://raw.githubusercontent.com/Datamanim/datarepo/main/insurance/x_test.csv\n",
    "- x_label(평가용) : https://raw.githubusercontent.com/Datamanim/datarepo/main/insurance/y_test.csv\n",
    "- 데이터 출처 :https://www.kaggle.com/anmolkumar/health-insurance-cross-sell-prediction(참고, 데이터 수정)"
   ]
  },
  {
   "cell_type": "code",
   "execution_count": 1,
   "metadata": {},
   "outputs": [
    {
     "data": {
      "text/html": [
       "<div>\n",
       "<style scoped>\n",
       "    .dataframe tbody tr th:only-of-type {\n",
       "        vertical-align: middle;\n",
       "    }\n",
       "\n",
       "    .dataframe tbody tr th {\n",
       "        vertical-align: top;\n",
       "    }\n",
       "\n",
       "    .dataframe thead th {\n",
       "        text-align: right;\n",
       "    }\n",
       "</style>\n",
       "<table border=\"1\" class=\"dataframe\">\n",
       "  <thead>\n",
       "    <tr style=\"text-align: right;\">\n",
       "      <th></th>\n",
       "      <th>ID</th>\n",
       "      <th>Gender</th>\n",
       "      <th>Age</th>\n",
       "      <th>Driving_License</th>\n",
       "      <th>Region_Code</th>\n",
       "      <th>Previously_Insured</th>\n",
       "      <th>Vehicle_Age</th>\n",
       "      <th>Vehicle_Damage</th>\n",
       "      <th>Annual_Premium</th>\n",
       "      <th>Policy_Sales_Channel</th>\n",
       "      <th>Vintage</th>\n",
       "      <th>id</th>\n",
       "    </tr>\n",
       "  </thead>\n",
       "  <tbody>\n",
       "    <tr>\n",
       "      <th>0</th>\n",
       "      <td>0</td>\n",
       "      <td>Female</td>\n",
       "      <td>23</td>\n",
       "      <td>1</td>\n",
       "      <td>8.0</td>\n",
       "      <td>0</td>\n",
       "      <td>&lt; 1 Year</td>\n",
       "      <td>Yes</td>\n",
       "      <td>61354.0</td>\n",
       "      <td>152.0</td>\n",
       "      <td>235</td>\n",
       "      <td>NaN</td>\n",
       "    </tr>\n",
       "    <tr>\n",
       "      <th>1</th>\n",
       "      <td>1</td>\n",
       "      <td>Male</td>\n",
       "      <td>27</td>\n",
       "      <td>1</td>\n",
       "      <td>28.0</td>\n",
       "      <td>1</td>\n",
       "      <td>&lt; 1 Year</td>\n",
       "      <td>No</td>\n",
       "      <td>38036.0</td>\n",
       "      <td>152.0</td>\n",
       "      <td>207</td>\n",
       "      <td>NaN</td>\n",
       "    </tr>\n",
       "    <tr>\n",
       "      <th>2</th>\n",
       "      <td>2</td>\n",
       "      <td>Female</td>\n",
       "      <td>23</td>\n",
       "      <td>1</td>\n",
       "      <td>45.0</td>\n",
       "      <td>0</td>\n",
       "      <td>&lt; 1 Year</td>\n",
       "      <td>Yes</td>\n",
       "      <td>25984.0</td>\n",
       "      <td>152.0</td>\n",
       "      <td>217</td>\n",
       "      <td>NaN</td>\n",
       "    </tr>\n",
       "    <tr>\n",
       "      <th>3</th>\n",
       "      <td>3</td>\n",
       "      <td>Male</td>\n",
       "      <td>22</td>\n",
       "      <td>1</td>\n",
       "      <td>46.0</td>\n",
       "      <td>0</td>\n",
       "      <td>&lt; 1 Year</td>\n",
       "      <td>No</td>\n",
       "      <td>39499.0</td>\n",
       "      <td>152.0</td>\n",
       "      <td>277</td>\n",
       "      <td>NaN</td>\n",
       "    </tr>\n",
       "    <tr>\n",
       "      <th>4</th>\n",
       "      <td>4</td>\n",
       "      <td>Male</td>\n",
       "      <td>32</td>\n",
       "      <td>1</td>\n",
       "      <td>30.0</td>\n",
       "      <td>1</td>\n",
       "      <td>&lt; 1 Year</td>\n",
       "      <td>No</td>\n",
       "      <td>38771.0</td>\n",
       "      <td>152.0</td>\n",
       "      <td>251</td>\n",
       "      <td>NaN</td>\n",
       "    </tr>\n",
       "  </tbody>\n",
       "</table>\n",
       "</div>"
      ],
      "text/plain": [
       "   ID  Gender  Age  Driving_License  Region_Code  Previously_Insured  \\\n",
       "0   0  Female   23                1          8.0                   0   \n",
       "1   1    Male   27                1         28.0                   1   \n",
       "2   2  Female   23                1         45.0                   0   \n",
       "3   3    Male   22                1         46.0                   0   \n",
       "4   4    Male   32                1         30.0                   1   \n",
       "\n",
       "  Vehicle_Age Vehicle_Damage  Annual_Premium  Policy_Sales_Channel  Vintage  \\\n",
       "0    < 1 Year            Yes         61354.0                 152.0      235   \n",
       "1    < 1 Year             No         38036.0                 152.0      207   \n",
       "2    < 1 Year            Yes         25984.0                 152.0      217   \n",
       "3    < 1 Year             No         39499.0                 152.0      277   \n",
       "4    < 1 Year             No         38771.0                 152.0      251   \n",
       "\n",
       "   id  \n",
       "0 NaN  \n",
       "1 NaN  \n",
       "2 NaN  \n",
       "3 NaN  \n",
       "4 NaN  "
      ]
     },
     "metadata": {},
     "output_type": "display_data"
    },
    {
     "data": {
      "text/html": [
       "<div>\n",
       "<style scoped>\n",
       "    .dataframe tbody tr th:only-of-type {\n",
       "        vertical-align: middle;\n",
       "    }\n",
       "\n",
       "    .dataframe tbody tr th {\n",
       "        vertical-align: top;\n",
       "    }\n",
       "\n",
       "    .dataframe thead th {\n",
       "        text-align: right;\n",
       "    }\n",
       "</style>\n",
       "<table border=\"1\" class=\"dataframe\">\n",
       "  <thead>\n",
       "    <tr style=\"text-align: right;\">\n",
       "      <th></th>\n",
       "      <th>ID</th>\n",
       "      <th>Response</th>\n",
       "    </tr>\n",
       "  </thead>\n",
       "  <tbody>\n",
       "    <tr>\n",
       "      <th>0</th>\n",
       "      <td>0</td>\n",
       "      <td>0</td>\n",
       "    </tr>\n",
       "    <tr>\n",
       "      <th>1</th>\n",
       "      <td>1</td>\n",
       "      <td>0</td>\n",
       "    </tr>\n",
       "    <tr>\n",
       "      <th>2</th>\n",
       "      <td>2</td>\n",
       "      <td>1</td>\n",
       "    </tr>\n",
       "    <tr>\n",
       "      <th>3</th>\n",
       "      <td>3</td>\n",
       "      <td>0</td>\n",
       "    </tr>\n",
       "    <tr>\n",
       "      <th>4</th>\n",
       "      <td>4</td>\n",
       "      <td>0</td>\n",
       "    </tr>\n",
       "  </tbody>\n",
       "</table>\n",
       "</div>"
      ],
      "text/plain": [
       "   ID  Response\n",
       "0   0         0\n",
       "1   1         0\n",
       "2   2         1\n",
       "3   3         0\n",
       "4   4         0"
      ]
     },
     "metadata": {},
     "output_type": "display_data"
    }
   ],
   "source": [
    "import pandas as pd\n",
    "#데이터 로드\n",
    "x_train = pd.read_csv(\"https://raw.githubusercontent.com/Datamanim/datarepo/main/insurance/x_train.csv\")\n",
    "y_train = pd.read_csv(\"https://raw.githubusercontent.com/Datamanim/datarepo/main/insurance/y_train.csv\")\n",
    "x_test= pd.read_csv(\"https://raw.githubusercontent.com/Datamanim/datarepo/main/insurance/x_test.csv\")\n",
    "\n",
    "display(x_train.head())\n",
    "display(y_train.head())"
   ]
  },
  {
   "cell_type": "code",
   "execution_count": 2,
   "metadata": {},
   "outputs": [
    {
     "name": "stdout",
     "output_type": "stream",
     "text": [
      "ID                           0\n",
      "Gender                       0\n",
      "Age                          0\n",
      "Driving_License              0\n",
      "Region_Code                  0\n",
      "Previously_Insured           0\n",
      "Vehicle_Age                  0\n",
      "Vehicle_Damage               0\n",
      "Annual_Premium               0\n",
      "Policy_Sales_Channel         0\n",
      "Vintage                      0\n",
      "id                      304887\n",
      "dtype: int64\n",
      "ID                      0\n",
      "Gender                  0\n",
      "Age                     0\n",
      "Driving_License         0\n",
      "Region_Code             0\n",
      "Previously_Insured      0\n",
      "Vehicle_Age             0\n",
      "Vehicle_Damage          0\n",
      "Annual_Premium          0\n",
      "Policy_Sales_Channel    0\n",
      "Vintage                 0\n",
      "id                      0\n",
      "dtype: int64\n"
     ]
    }
   ],
   "source": [
    "# 결측치 확인\n",
    "print(x_train.isna().sum())\n",
    "print(x_test.isna().sum())"
   ]
  },
  {
   "cell_type": "code",
   "execution_count": 3,
   "metadata": {},
   "outputs": [],
   "source": [
    "# 결측치 처리\n",
    "x_train['id'] = x_train['id'].fillna(0)"
   ]
  },
  {
   "cell_type": "code",
   "execution_count": 4,
   "metadata": {},
   "outputs": [],
   "source": [
    "# 불필요한 컬럼 제거\n",
    "x_test_ID = x_test['id']\n",
    "x_train = x_train.drop(columns = ['ID'], axis =1)\n",
    "x_test = x_test.drop(columns = ['ID'], axis =1)"
   ]
  },
  {
   "cell_type": "code",
   "execution_count": 5,
   "metadata": {},
   "outputs": [
    {
     "name": "stdout",
     "output_type": "stream",
     "text": [
      "Index(['Gender', 'Vehicle_Age', 'Vehicle_Damage'], dtype='object')\n",
      "Index(['Age', 'Driving_License', 'Region_Code', 'Previously_Insured',\n",
      "       'Annual_Premium', 'Policy_Sales_Channel', 'Vintage', 'id'],\n",
      "      dtype='object')\n"
     ]
    }
   ],
   "source": [
    "# 범주형 수치형 변수 확인\n",
    "obj = x_train.select_dtypes(include = 'object').columns\n",
    "num = x_train.select_dtypes(include = 'number').columns\n",
    "print(obj) \n",
    "print(num)"
   ]
  },
  {
   "cell_type": "code",
   "execution_count": 6,
   "metadata": {},
   "outputs": [],
   "source": [
    "# 범주형 변수 전처리\n",
    "from sklearn.preprocessing import LabelEncoder\n",
    "encoder = LabelEncoder()\n",
    "x_train['Gender'] = encoder.fit_transform(x_train['Gender'])\n",
    "x_train['Vehicle_Age'] = encoder.fit_transform(x_train['Vehicle_Age'])\n",
    "x_train['Vehicle_Damage'] = encoder.fit_transform(x_train['Vehicle_Damage'])\n",
    "\n",
    "x_test['Gender'] = encoder.fit_transform(x_test['Gender'])\n",
    "x_test['Vehicle_Age'] = encoder.fit_transform(x_test['Vehicle_Age'])\n",
    "x_test['Vehicle_Damage'] = encoder.fit_transform(x_test['Vehicle_Damage'])"
   ]
  },
  {
   "cell_type": "code",
   "execution_count": 7,
   "metadata": {},
   "outputs": [],
   "source": [
    "# 수치형 변수 전처리\n",
    "from sklearn.preprocessing import StandardScaler\n",
    "scaler= StandardScaler()\n",
    "x_train = scaler.fit_transform(x_train)\n",
    "x_test = scaler.fit_transform(x_test)"
   ]
  },
  {
   "cell_type": "code",
   "execution_count": 8,
   "metadata": {},
   "outputs": [],
   "source": [
    "# 데이터분리\n",
    "from sklearn.model_selection import train_test_split\n",
    "X_TRAIN,X_TEST,Y_TRAIN,Y_TEST = train_test_split(x_train, y_train['Response'], test_size=0.3,random_state=1234)"
   ]
  },
  {
   "cell_type": "code",
   "execution_count": 9,
   "metadata": {},
   "outputs": [],
   "source": [
    "# 모델링\n",
    "from sklearn.ensemble import RandomForestClassifier\n",
    "model = RandomForestClassifier()\n",
    "model.fit(X_TRAIN, Y_TRAIN)\n",
    "Y_TEST_PRED = model.predict_proba(X_TEST)[:,1]"
   ]
  },
  {
   "cell_type": "code",
   "execution_count": 10,
   "metadata": {},
   "outputs": [
    {
     "name": "stdout",
     "output_type": "stream",
     "text": [
      "0.8347810778484511\n"
     ]
    }
   ],
   "source": [
    "# 평가\n",
    "from sklearn.metrics import roc_auc_score\n",
    "print(roc_auc_score(Y_TEST, Y_TEST_PRED))"
   ]
  },
  {
   "cell_type": "code",
   "execution_count": 11,
   "metadata": {},
   "outputs": [],
   "source": [
    "# 최종제출\n",
    "y_test_pred = model.predict_proba(x_test)[:,1]\n",
    "result = pd.DataFrame(y_test_pred)\n",
    "final = pd.concat([x_test_ID, result],axis=1).rename(columns = {0:'Response'})\n",
    "final.to_csv('123456.csv', index =False)"
   ]
  },
  {
   "cell_type": "code",
   "execution_count": 12,
   "metadata": {},
   "outputs": [
    {
     "name": "stdout",
     "output_type": "stream",
     "text": [
      "             id  Response\n",
      "0      310373.0      0.00\n",
      "1      173124.0      0.00\n",
      "2       89621.0      0.12\n",
      "3      356129.0      0.00\n",
      "4      258565.0      0.03\n",
      "...         ...       ...\n",
      "76217   25688.0      0.00\n",
      "76218  184322.0      0.00\n",
      "76219  185285.0      0.10\n",
      "76220  120053.0      0.06\n",
      "76221   86978.0      0.39\n",
      "\n",
      "[76222 rows x 2 columns]\n"
     ]
    }
   ],
   "source": [
    "# 제출확인\n",
    "check = pd.read_csv('123456.csv')\n",
    "print(check)"
   ]
  }
 ],
 "metadata": {
  "kernelspec": {
   "display_name": "ds_study",
   "language": "python",
   "name": "python3"
  },
  "language_info": {
   "codemirror_mode": {
    "name": "ipython",
    "version": 3
   },
   "file_extension": ".py",
   "mimetype": "text/x-python",
   "name": "python",
   "nbconvert_exporter": "python",
   "pygments_lexer": "ipython3",
   "version": "3.8.15 (default, Nov 24 2022, 14:38:14) [MSC v.1916 64 bit (AMD64)]"
  },
  "orig_nbformat": 4,
  "vscode": {
   "interpreter": {
    "hash": "48b47ef07f8cbb10516d394180ce5ec5d2bd717fb884a02594f05e6ba15d1713"
   }
  }
 },
 "nbformat": 4,
 "nbformat_minor": 2
}
