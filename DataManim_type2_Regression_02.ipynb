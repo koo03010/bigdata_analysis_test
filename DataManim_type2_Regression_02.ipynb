{
 "cells": [
  {
   "cell_type": "markdown",
   "metadata": {},
   "source": [
    "## 빅데이터분석기사 작업형 2"
   ]
  },
  {
   "cell_type": "markdown",
   "metadata": {},
   "source": [
    "중고차 가격 예측 데이터\n",
    "- 데이터 설명 : 중고차 가격 예측 데이터 (종속변수 :G3)\n",
    "- x_train: https://raw.githubusercontent.com/Datamanim/datarepo/main/carsprice/X_train.csv\n",
    "- y_train: https://raw.githubusercontent.com/Datamanim/datarepo/main/carsprice/y_train.csv\n",
    "- x_test: https://raw.githubusercontent.com/Datamanim/datarepo/main/carsprice/X_test.csv\n",
    "- x_label(평가용) : https://raw.githubusercontent.com/Datamanim/datarepo/main/carsprice/y_test.csv\n",
    "- 데이터 출처 :https://www.kaggle.com/datasets/adityadesai13/used-car-dataset-ford-and-mercedes?select=vw.csv (참고, 데이터 수정)"
   ]
  },
  {
   "cell_type": "code",
   "execution_count": 1,
   "metadata": {},
   "outputs": [
    {
     "data": {
      "text/html": [
       "<div>\n",
       "<style scoped>\n",
       "    .dataframe tbody tr th:only-of-type {\n",
       "        vertical-align: middle;\n",
       "    }\n",
       "\n",
       "    .dataframe tbody tr th {\n",
       "        vertical-align: top;\n",
       "    }\n",
       "\n",
       "    .dataframe thead th {\n",
       "        text-align: right;\n",
       "    }\n",
       "</style>\n",
       "<table border=\"1\" class=\"dataframe\">\n",
       "  <thead>\n",
       "    <tr style=\"text-align: right;\">\n",
       "      <th></th>\n",
       "      <th>carID</th>\n",
       "      <th>brand</th>\n",
       "      <th>model</th>\n",
       "      <th>year</th>\n",
       "      <th>transmission</th>\n",
       "      <th>mileage</th>\n",
       "      <th>fuelType</th>\n",
       "      <th>tax</th>\n",
       "      <th>mpg</th>\n",
       "      <th>engineSize</th>\n",
       "    </tr>\n",
       "  </thead>\n",
       "  <tbody>\n",
       "    <tr>\n",
       "      <th>0</th>\n",
       "      <td>13207</td>\n",
       "      <td>hyundi</td>\n",
       "      <td>Santa Fe</td>\n",
       "      <td>2019</td>\n",
       "      <td>Semi-Auto</td>\n",
       "      <td>4223</td>\n",
       "      <td>Diesel</td>\n",
       "      <td>145.0</td>\n",
       "      <td>39.8</td>\n",
       "      <td>2.2</td>\n",
       "    </tr>\n",
       "    <tr>\n",
       "      <th>1</th>\n",
       "      <td>17314</td>\n",
       "      <td>vauxhall</td>\n",
       "      <td>GTC</td>\n",
       "      <td>2015</td>\n",
       "      <td>Manual</td>\n",
       "      <td>47870</td>\n",
       "      <td>Diesel</td>\n",
       "      <td>125.0</td>\n",
       "      <td>60.1</td>\n",
       "      <td>2.0</td>\n",
       "    </tr>\n",
       "    <tr>\n",
       "      <th>2</th>\n",
       "      <td>12342</td>\n",
       "      <td>audi</td>\n",
       "      <td>RS4</td>\n",
       "      <td>2019</td>\n",
       "      <td>Automatic</td>\n",
       "      <td>5151</td>\n",
       "      <td>Petrol</td>\n",
       "      <td>145.0</td>\n",
       "      <td>29.1</td>\n",
       "      <td>2.9</td>\n",
       "    </tr>\n",
       "    <tr>\n",
       "      <th>3</th>\n",
       "      <td>13426</td>\n",
       "      <td>vw</td>\n",
       "      <td>Scirocco</td>\n",
       "      <td>2016</td>\n",
       "      <td>Automatic</td>\n",
       "      <td>20423</td>\n",
       "      <td>Diesel</td>\n",
       "      <td>30.0</td>\n",
       "      <td>57.6</td>\n",
       "      <td>2.0</td>\n",
       "    </tr>\n",
       "    <tr>\n",
       "      <th>4</th>\n",
       "      <td>16004</td>\n",
       "      <td>skoda</td>\n",
       "      <td>Scala</td>\n",
       "      <td>2020</td>\n",
       "      <td>Semi-Auto</td>\n",
       "      <td>3569</td>\n",
       "      <td>Petrol</td>\n",
       "      <td>145.0</td>\n",
       "      <td>47.1</td>\n",
       "      <td>1.0</td>\n",
       "    </tr>\n",
       "  </tbody>\n",
       "</table>\n",
       "</div>"
      ],
      "text/plain": [
       "   carID     brand      model  year transmission  mileage fuelType    tax  \\\n",
       "0  13207    hyundi   Santa Fe  2019    Semi-Auto     4223   Diesel  145.0   \n",
       "1  17314  vauxhall        GTC  2015       Manual    47870   Diesel  125.0   \n",
       "2  12342      audi        RS4  2019    Automatic     5151   Petrol  145.0   \n",
       "3  13426        vw   Scirocco  2016    Automatic    20423   Diesel   30.0   \n",
       "4  16004     skoda      Scala  2020    Semi-Auto     3569   Petrol  145.0   \n",
       "\n",
       "    mpg  engineSize  \n",
       "0  39.8         2.2  \n",
       "1  60.1         2.0  \n",
       "2  29.1         2.9  \n",
       "3  57.6         2.0  \n",
       "4  47.1         1.0  "
      ]
     },
     "metadata": {},
     "output_type": "display_data"
    },
    {
     "data": {
      "text/html": [
       "<div>\n",
       "<style scoped>\n",
       "    .dataframe tbody tr th:only-of-type {\n",
       "        vertical-align: middle;\n",
       "    }\n",
       "\n",
       "    .dataframe tbody tr th {\n",
       "        vertical-align: top;\n",
       "    }\n",
       "\n",
       "    .dataframe thead th {\n",
       "        text-align: right;\n",
       "    }\n",
       "</style>\n",
       "<table border=\"1\" class=\"dataframe\">\n",
       "  <thead>\n",
       "    <tr style=\"text-align: right;\">\n",
       "      <th></th>\n",
       "      <th>carID</th>\n",
       "      <th>price</th>\n",
       "    </tr>\n",
       "  </thead>\n",
       "  <tbody>\n",
       "    <tr>\n",
       "      <th>0</th>\n",
       "      <td>13207</td>\n",
       "      <td>31995</td>\n",
       "    </tr>\n",
       "    <tr>\n",
       "      <th>1</th>\n",
       "      <td>17314</td>\n",
       "      <td>7700</td>\n",
       "    </tr>\n",
       "    <tr>\n",
       "      <th>2</th>\n",
       "      <td>12342</td>\n",
       "      <td>58990</td>\n",
       "    </tr>\n",
       "    <tr>\n",
       "      <th>3</th>\n",
       "      <td>13426</td>\n",
       "      <td>12999</td>\n",
       "    </tr>\n",
       "    <tr>\n",
       "      <th>4</th>\n",
       "      <td>16004</td>\n",
       "      <td>16990</td>\n",
       "    </tr>\n",
       "  </tbody>\n",
       "</table>\n",
       "</div>"
      ],
      "text/plain": [
       "   carID  price\n",
       "0  13207  31995\n",
       "1  17314   7700\n",
       "2  12342  58990\n",
       "3  13426  12999\n",
       "4  16004  16990"
      ]
     },
     "metadata": {},
     "output_type": "display_data"
    }
   ],
   "source": [
    "import pandas as pd\n",
    "#데이터 로드\n",
    "x_train = pd.read_csv(\"https://raw.githubusercontent.com/Datamanim/datarepo/main/carsprice/X_train.csv\")\n",
    "y_train = pd.read_csv(\"https://raw.githubusercontent.com/Datamanim/datarepo/main/carsprice/y_train.csv\")\n",
    "x_test= pd.read_csv(\"https://raw.githubusercontent.com/Datamanim/datarepo/main/carsprice/X_test.csv\")\n",
    "\n",
    "display(x_train.head())\n",
    "display(y_train.head())"
   ]
  },
  {
   "cell_type": "code",
   "execution_count": 2,
   "metadata": {},
   "outputs": [
    {
     "name": "stdout",
     "output_type": "stream",
     "text": [
      "carID           0\n",
      "brand           0\n",
      "model           0\n",
      "year            0\n",
      "transmission    0\n",
      "mileage         0\n",
      "fuelType        0\n",
      "tax             0\n",
      "mpg             0\n",
      "engineSize      0\n",
      "dtype: int64\n",
      "carID           0\n",
      "brand           0\n",
      "model           0\n",
      "year            0\n",
      "transmission    0\n",
      "mileage         0\n",
      "fuelType        0\n",
      "tax             0\n",
      "mpg             0\n",
      "engineSize      0\n",
      "dtype: int64\n"
     ]
    }
   ],
   "source": [
    "# 결측치 확인\n",
    "print(x_train.isna().sum())\n",
    "print(x_test.isna().sum())"
   ]
  },
  {
   "cell_type": "code",
   "execution_count": 3,
   "metadata": {},
   "outputs": [],
   "source": [
    "# 불필요한 컬럼 제거\n",
    "x_test_carID = x_test['carID']\n",
    "x_train = x_train.drop(columns = ['carID'], axis =1)\n",
    "x_test = x_test.drop(columns = ['carID'], axis =1)"
   ]
  },
  {
   "cell_type": "code",
   "execution_count": 4,
   "metadata": {},
   "outputs": [
    {
     "name": "stdout",
     "output_type": "stream",
     "text": [
      "Index(['brand', 'model', 'transmission', 'fuelType'], dtype='object')\n",
      "Index(['year', 'mileage', 'tax', 'mpg', 'engineSize'], dtype='object')\n"
     ]
    }
   ],
   "source": [
    "# 범주형, 수치형 확인\n",
    "obj = x_train.select_dtypes(include = 'object').columns\n",
    "num = x_train.select_dtypes(include = 'number').columns\n",
    "\n",
    "print(obj)\n",
    "print(num)"
   ]
  },
  {
   "cell_type": "code",
   "execution_count": 5,
   "metadata": {},
   "outputs": [],
   "source": [
    "# 범주형 변수 전처리\n",
    "from sklearn.preprocessing import LabelEncoder\n",
    "encoder = LabelEncoder()\n",
    "x_train['brand'] = encoder.fit_transform(x_train['brand'])\n",
    "x_train['model'] = encoder.fit_transform(x_train['model'])\n",
    "x_train['transmission'] = encoder.fit_transform(x_train['transmission'])\n",
    "x_train['fuelType'] = encoder.fit_transform(x_train['fuelType'])\n",
    "\n",
    "x_test['brand'] = encoder.fit_transform(x_test['brand'])\n",
    "x_test['model'] = encoder.fit_transform(x_test['model'])\n",
    "x_test['transmission'] = encoder.fit_transform(x_test['transmission'])\n",
    "x_test['fuelType'] = encoder.fit_transform(x_test['fuelType'])"
   ]
  },
  {
   "cell_type": "code",
   "execution_count": 6,
   "metadata": {},
   "outputs": [],
   "source": [
    "# 수치형 변수 전처리\n",
    "from sklearn.preprocessing import StandardScaler\n",
    "scaler = StandardScaler()\n",
    "x_train = scaler.fit_transform(x_train)\n",
    "x_test = scaler.fit_transform(x_test)"
   ]
  },
  {
   "cell_type": "code",
   "execution_count": 7,
   "metadata": {},
   "outputs": [],
   "source": [
    "# 데이터 분리\n",
    "from sklearn.model_selection import train_test_split\n",
    "X_TRAIN,X_TEST,Y_TRAIN,Y_TEST = train_test_split(x_train, y_train['price'],test_size = 0.3, random_state = 1234)"
   ]
  },
  {
   "cell_type": "code",
   "execution_count": 8,
   "metadata": {},
   "outputs": [],
   "source": [
    "# 모델링\n",
    "from sklearn.ensemble import RandomForestRegressor\n",
    "model = RandomForestRegressor()\n",
    "model.fit(X_TRAIN, Y_TRAIN)\n",
    "Y_TEST_PRED = model.predict(X_TEST)"
   ]
  },
  {
   "cell_type": "code",
   "execution_count": 9,
   "metadata": {},
   "outputs": [
    {
     "name": "stdout",
     "output_type": "stream",
     "text": [
      "0.947405553035791\n"
     ]
    }
   ],
   "source": [
    "# 평가\n",
    "from sklearn.metrics import r2_score\n",
    "print(r2_score(Y_TEST, Y_TEST_PRED))"
   ]
  },
  {
   "cell_type": "code",
   "execution_count": 12,
   "metadata": {},
   "outputs": [],
   "source": [
    "# 최종제출\n",
    "y_test_pred = model.predict(x_test)\n",
    "result = pd.DataFrame(y_test_pred)\n",
    "result = result.rename(columns = {0:'price'})\n",
    "result.to_csv('123456.csv',index = False)"
   ]
  },
  {
   "cell_type": "code",
   "execution_count": 13,
   "metadata": {},
   "outputs": [
    {
     "name": "stdout",
     "output_type": "stream",
     "text": [
      "         price\n",
      "0     39973.66\n",
      "1     23915.47\n",
      "2     53023.96\n",
      "3     15951.64\n",
      "4     52138.27\n",
      "...        ...\n",
      "2667  34475.75\n",
      "2668  20535.96\n",
      "2669  20609.77\n",
      "2670  23797.18\n",
      "2671   2952.39\n",
      "\n",
      "[2672 rows x 1 columns]\n"
     ]
    }
   ],
   "source": [
    "# 제출확인\n",
    "check = pd.read_csv('123456.csv')\n",
    "print(check)"
   ]
  }
 ],
 "metadata": {
  "kernelspec": {
   "display_name": "ds_study",
   "language": "python",
   "name": "python3"
  },
  "language_info": {
   "codemirror_mode": {
    "name": "ipython",
    "version": 3
   },
   "file_extension": ".py",
   "mimetype": "text/x-python",
   "name": "python",
   "nbconvert_exporter": "python",
   "pygments_lexer": "ipython3",
   "version": "3.8.15 (default, Nov 24 2022, 14:38:14) [MSC v.1916 64 bit (AMD64)]"
  },
  "orig_nbformat": 4,
  "vscode": {
   "interpreter": {
    "hash": "48b47ef07f8cbb10516d394180ce5ec5d2bd717fb884a02594f05e6ba15d1713"
   }
  }
 },
 "nbformat": 4,
 "nbformat_minor": 2
}
