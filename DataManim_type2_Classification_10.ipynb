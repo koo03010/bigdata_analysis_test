{
 "cells": [
  {
   "cell_type": "markdown",
   "metadata": {},
   "source": [
    "## 빅데이터분석기사 작업형 2"
   ]
  },
  {
   "cell_type": "markdown",
   "metadata": {},
   "source": [
    "센서데이터 동작유형 분류 데이터\n",
    "- 데이터 설명 : 센서데이터로 동작 유형 분류 (종속변수 pose : 0 ,1 구분)\n",
    "- x_train: https://raw.githubusercontent.com/Datamanim/datarepo/main/muscle/x_train.csv\n",
    "- y_train: https://raw.githubusercontent.com/Datamanim/datarepo/main/muscle/y_train.csv\n",
    "- x_test: https://raw.githubusercontent.com/Datamanim/datarepo/main/muscle/x_test.csv\n",
    "- x_label(평가용) : https://raw.githubusercontent.com/Datamanim/datarepo/main/muscle/y_test.csv\n",
    "- 데이터 출처 :https://www.kaggle.com/kyr7plus/emg-4(참고, 데이터 수정)"
   ]
  },
  {
   "cell_type": "code",
   "execution_count": 1,
   "metadata": {},
   "outputs": [
    {
     "data": {
      "text/html": [
       "<div>\n",
       "<style scoped>\n",
       "    .dataframe tbody tr th:only-of-type {\n",
       "        vertical-align: middle;\n",
       "    }\n",
       "\n",
       "    .dataframe tbody tr th {\n",
       "        vertical-align: top;\n",
       "    }\n",
       "\n",
       "    .dataframe thead th {\n",
       "        text-align: right;\n",
       "    }\n",
       "</style>\n",
       "<table border=\"1\" class=\"dataframe\">\n",
       "  <thead>\n",
       "    <tr style=\"text-align: right;\">\n",
       "      <th></th>\n",
       "      <th>ID</th>\n",
       "      <th>motion_0</th>\n",
       "      <th>motion_1</th>\n",
       "      <th>motion_2</th>\n",
       "      <th>motion_3</th>\n",
       "      <th>motion_4</th>\n",
       "      <th>motion_5</th>\n",
       "      <th>motion_6</th>\n",
       "      <th>motion_7</th>\n",
       "      <th>motion_8</th>\n",
       "      <th>...</th>\n",
       "      <th>motion_54</th>\n",
       "      <th>motion_55</th>\n",
       "      <th>motion_56</th>\n",
       "      <th>motion_57</th>\n",
       "      <th>motion_58</th>\n",
       "      <th>motion_59</th>\n",
       "      <th>motion_60</th>\n",
       "      <th>motion_61</th>\n",
       "      <th>motion_62</th>\n",
       "      <th>motion_63</th>\n",
       "    </tr>\n",
       "  </thead>\n",
       "  <tbody>\n",
       "    <tr>\n",
       "      <th>0</th>\n",
       "      <td>0</td>\n",
       "      <td>1.0</td>\n",
       "      <td>-2.0</td>\n",
       "      <td>-1.0</td>\n",
       "      <td>4.0</td>\n",
       "      <td>-5.0</td>\n",
       "      <td>-4.0</td>\n",
       "      <td>1.0</td>\n",
       "      <td>0.0</td>\n",
       "      <td>-15.0</td>\n",
       "      <td>...</td>\n",
       "      <td>0.0</td>\n",
       "      <td>-1.0</td>\n",
       "      <td>-13.0</td>\n",
       "      <td>-3.0</td>\n",
       "      <td>1.0</td>\n",
       "      <td>-1.0</td>\n",
       "      <td>-32.0</td>\n",
       "      <td>-22.0</td>\n",
       "      <td>-2.0</td>\n",
       "      <td>-3.0</td>\n",
       "    </tr>\n",
       "    <tr>\n",
       "      <th>1</th>\n",
       "      <td>2</td>\n",
       "      <td>20.0</td>\n",
       "      <td>0.0</td>\n",
       "      <td>0.0</td>\n",
       "      <td>1.0</td>\n",
       "      <td>5.0</td>\n",
       "      <td>6.0</td>\n",
       "      <td>-52.0</td>\n",
       "      <td>18.0</td>\n",
       "      <td>15.0</td>\n",
       "      <td>...</td>\n",
       "      <td>-70.0</td>\n",
       "      <td>-55.0</td>\n",
       "      <td>-38.0</td>\n",
       "      <td>-14.0</td>\n",
       "      <td>-12.0</td>\n",
       "      <td>-8.0</td>\n",
       "      <td>-34.0</td>\n",
       "      <td>-63.0</td>\n",
       "      <td>-87.0</td>\n",
       "      <td>-77.0</td>\n",
       "    </tr>\n",
       "    <tr>\n",
       "      <th>2</th>\n",
       "      <td>4</td>\n",
       "      <td>1.0</td>\n",
       "      <td>-1.0</td>\n",
       "      <td>1.0</td>\n",
       "      <td>4.0</td>\n",
       "      <td>-5.0</td>\n",
       "      <td>-8.0</td>\n",
       "      <td>1.0</td>\n",
       "      <td>-3.0</td>\n",
       "      <td>-14.0</td>\n",
       "      <td>...</td>\n",
       "      <td>1.0</td>\n",
       "      <td>12.0</td>\n",
       "      <td>-25.0</td>\n",
       "      <td>0.0</td>\n",
       "      <td>0.0</td>\n",
       "      <td>3.0</td>\n",
       "      <td>2.0</td>\n",
       "      <td>-27.0</td>\n",
       "      <td>1.0</td>\n",
       "      <td>0.0</td>\n",
       "    </tr>\n",
       "    <tr>\n",
       "      <th>3</th>\n",
       "      <td>5</td>\n",
       "      <td>13.0</td>\n",
       "      <td>2.0</td>\n",
       "      <td>1.0</td>\n",
       "      <td>-3.0</td>\n",
       "      <td>1.0</td>\n",
       "      <td>3.0</td>\n",
       "      <td>28.0</td>\n",
       "      <td>3.0</td>\n",
       "      <td>12.0</td>\n",
       "      <td>...</td>\n",
       "      <td>0.0</td>\n",
       "      <td>-21.0</td>\n",
       "      <td>-17.0</td>\n",
       "      <td>-2.0</td>\n",
       "      <td>0.0</td>\n",
       "      <td>-4.0</td>\n",
       "      <td>-17.0</td>\n",
       "      <td>-21.0</td>\n",
       "      <td>-21.0</td>\n",
       "      <td>25.0</td>\n",
       "    </tr>\n",
       "    <tr>\n",
       "      <th>4</th>\n",
       "      <td>6</td>\n",
       "      <td>-2.0</td>\n",
       "      <td>-7.0</td>\n",
       "      <td>-4.0</td>\n",
       "      <td>-8.0</td>\n",
       "      <td>16.0</td>\n",
       "      <td>44.0</td>\n",
       "      <td>1.0</td>\n",
       "      <td>3.0</td>\n",
       "      <td>-16.0</td>\n",
       "      <td>...</td>\n",
       "      <td>-1.0</td>\n",
       "      <td>2.0</td>\n",
       "      <td>-1.0</td>\n",
       "      <td>1.0</td>\n",
       "      <td>4.0</td>\n",
       "      <td>4.0</td>\n",
       "      <td>-17.0</td>\n",
       "      <td>-38.0</td>\n",
       "      <td>-3.0</td>\n",
       "      <td>3.0</td>\n",
       "    </tr>\n",
       "  </tbody>\n",
       "</table>\n",
       "<p>5 rows × 65 columns</p>\n",
       "</div>"
      ],
      "text/plain": [
       "   ID  motion_0  motion_1  motion_2  motion_3  motion_4  motion_5  motion_6  \\\n",
       "0   0       1.0      -2.0      -1.0       4.0      -5.0      -4.0       1.0   \n",
       "1   2      20.0       0.0       0.0       1.0       5.0       6.0     -52.0   \n",
       "2   4       1.0      -1.0       1.0       4.0      -5.0      -8.0       1.0   \n",
       "3   5      13.0       2.0       1.0      -3.0       1.0       3.0      28.0   \n",
       "4   6      -2.0      -7.0      -4.0      -8.0      16.0      44.0       1.0   \n",
       "\n",
       "   motion_7  motion_8  ...  motion_54  motion_55  motion_56  motion_57  \\\n",
       "0       0.0     -15.0  ...        0.0       -1.0      -13.0       -3.0   \n",
       "1      18.0      15.0  ...      -70.0      -55.0      -38.0      -14.0   \n",
       "2      -3.0     -14.0  ...        1.0       12.0      -25.0        0.0   \n",
       "3       3.0      12.0  ...        0.0      -21.0      -17.0       -2.0   \n",
       "4       3.0     -16.0  ...       -1.0        2.0       -1.0        1.0   \n",
       "\n",
       "   motion_58  motion_59  motion_60  motion_61  motion_62  motion_63  \n",
       "0        1.0       -1.0      -32.0      -22.0       -2.0       -3.0  \n",
       "1      -12.0       -8.0      -34.0      -63.0      -87.0      -77.0  \n",
       "2        0.0        3.0        2.0      -27.0        1.0        0.0  \n",
       "3        0.0       -4.0      -17.0      -21.0      -21.0       25.0  \n",
       "4        4.0        4.0      -17.0      -38.0       -3.0        3.0  \n",
       "\n",
       "[5 rows x 65 columns]"
      ]
     },
     "metadata": {},
     "output_type": "display_data"
    },
    {
     "data": {
      "text/html": [
       "<div>\n",
       "<style scoped>\n",
       "    .dataframe tbody tr th:only-of-type {\n",
       "        vertical-align: middle;\n",
       "    }\n",
       "\n",
       "    .dataframe tbody tr th {\n",
       "        vertical-align: top;\n",
       "    }\n",
       "\n",
       "    .dataframe thead th {\n",
       "        text-align: right;\n",
       "    }\n",
       "</style>\n",
       "<table border=\"1\" class=\"dataframe\">\n",
       "  <thead>\n",
       "    <tr style=\"text-align: right;\">\n",
       "      <th></th>\n",
       "      <th>ID</th>\n",
       "      <th>pose</th>\n",
       "    </tr>\n",
       "  </thead>\n",
       "  <tbody>\n",
       "    <tr>\n",
       "      <th>0</th>\n",
       "      <td>0</td>\n",
       "      <td>1</td>\n",
       "    </tr>\n",
       "    <tr>\n",
       "      <th>1</th>\n",
       "      <td>2</td>\n",
       "      <td>0</td>\n",
       "    </tr>\n",
       "    <tr>\n",
       "      <th>2</th>\n",
       "      <td>4</td>\n",
       "      <td>1</td>\n",
       "    </tr>\n",
       "    <tr>\n",
       "      <th>3</th>\n",
       "      <td>5</td>\n",
       "      <td>0</td>\n",
       "    </tr>\n",
       "    <tr>\n",
       "      <th>4</th>\n",
       "      <td>6</td>\n",
       "      <td>1</td>\n",
       "    </tr>\n",
       "  </tbody>\n",
       "</table>\n",
       "</div>"
      ],
      "text/plain": [
       "   ID  pose\n",
       "0   0     1\n",
       "1   2     0\n",
       "2   4     1\n",
       "3   5     0\n",
       "4   6     1"
      ]
     },
     "metadata": {},
     "output_type": "display_data"
    }
   ],
   "source": [
    "import pandas as pd\n",
    "#데이터 로드\n",
    "x_train = pd.read_csv(\"https://raw.githubusercontent.com/Datamanim/datarepo/main/muscle/x_train.csv\")\n",
    "y_train = pd.read_csv(\"https://raw.githubusercontent.com/Datamanim/datarepo/main/muscle/y_train.csv\")\n",
    "x_test= pd.read_csv(\"https://raw.githubusercontent.com/Datamanim/datarepo/main/muscle/x_test.csv\")\n",
    "\n",
    "display(x_train.head())\n",
    "display(y_train.head())"
   ]
  },
  {
   "cell_type": "code",
   "execution_count": 2,
   "metadata": {},
   "outputs": [
    {
     "name": "stdout",
     "output_type": "stream",
     "text": [
      "ID           0\n",
      "motion_0     0\n",
      "motion_1     0\n",
      "motion_2     0\n",
      "motion_3     0\n",
      "            ..\n",
      "motion_59    0\n",
      "motion_60    0\n",
      "motion_61    0\n",
      "motion_62    0\n",
      "motion_63    0\n",
      "Length: 65, dtype: int64\n",
      "ID           0\n",
      "motion_0     0\n",
      "motion_1     0\n",
      "motion_2     0\n",
      "motion_3     0\n",
      "            ..\n",
      "motion_59    0\n",
      "motion_60    0\n",
      "motion_61    0\n",
      "motion_62    0\n",
      "motion_63    0\n",
      "Length: 65, dtype: int64\n"
     ]
    }
   ],
   "source": [
    "# 결측치 확인\n",
    "print(x_train.isna().sum())\n",
    "print(x_test.isna().sum())"
   ]
  },
  {
   "cell_type": "code",
   "execution_count": 3,
   "metadata": {},
   "outputs": [],
   "source": [
    "# 불필요한 컬럼 삭제\n",
    "x_test_ID = x_test['ID']\n",
    "x_train = x_train.drop(columns = ['ID'], axis =1)\n",
    "x_test = x_test.drop(columns = ['ID'], axis =1)"
   ]
  },
  {
   "cell_type": "code",
   "execution_count": 4,
   "metadata": {},
   "outputs": [
    {
     "name": "stdout",
     "output_type": "stream",
     "text": [
      "Index([], dtype='object')\n",
      "Index(['motion_0', 'motion_1', 'motion_2', 'motion_3', 'motion_4', 'motion_5',\n",
      "       'motion_6', 'motion_7', 'motion_8', 'motion_9', 'motion_10',\n",
      "       'motion_11', 'motion_12', 'motion_13', 'motion_14', 'motion_15',\n",
      "       'motion_16', 'motion_17', 'motion_18', 'motion_19', 'motion_20',\n",
      "       'motion_21', 'motion_22', 'motion_23', 'motion_24', 'motion_25',\n",
      "       'motion_26', 'motion_27', 'motion_28', 'motion_29', 'motion_30',\n",
      "       'motion_31', 'motion_32', 'motion_33', 'motion_34', 'motion_35',\n",
      "       'motion_36', 'motion_37', 'motion_38', 'motion_39', 'motion_40',\n",
      "       'motion_41', 'motion_42', 'motion_43', 'motion_44', 'motion_45',\n",
      "       'motion_46', 'motion_47', 'motion_48', 'motion_49', 'motion_50',\n",
      "       'motion_51', 'motion_52', 'motion_53', 'motion_54', 'motion_55',\n",
      "       'motion_56', 'motion_57', 'motion_58', 'motion_59', 'motion_60',\n",
      "       'motion_61', 'motion_62', 'motion_63'],\n",
      "      dtype='object')\n"
     ]
    }
   ],
   "source": [
    "# 범주형 수치형 변수 확인\n",
    "obj = x_train.select_dtypes(include = 'object').columns\n",
    "num = x_train.select_dtypes(include = 'number').columns\n",
    "print(obj)\n",
    "print(num)"
   ]
  },
  {
   "cell_type": "code",
   "execution_count": 5,
   "metadata": {},
   "outputs": [],
   "source": [
    "# 수치형 변수 전처리\n",
    "from sklearn.preprocessing import StandardScaler\n",
    "scaler = StandardScaler()\n",
    "x_train = scaler.fit_transform(x_train)\n",
    "x_test = scaler.fit_transform(x_test)"
   ]
  },
  {
   "cell_type": "code",
   "execution_count": 6,
   "metadata": {},
   "outputs": [],
   "source": [
    "# 데이터 분리\n",
    "from sklearn.model_selection import train_test_split\n",
    "X_TRAIN, X_TEST, Y_TRAIN, Y_TEST = train_test_split(x_train, y_train['pose'], test_size = 0.3, random_state = 1234)"
   ]
  },
  {
   "cell_type": "code",
   "execution_count": 7,
   "metadata": {},
   "outputs": [],
   "source": [
    "# 모델링\n",
    "from sklearn.ensemble import RandomForestClassifier\n",
    "model = RandomForestClassifier()\n",
    "model.fit(X_TRAIN, Y_TRAIN)\n",
    "Y_TEST_PRED = model.predict_proba(X_TEST)[:,1]"
   ]
  },
  {
   "cell_type": "code",
   "execution_count": 8,
   "metadata": {},
   "outputs": [
    {
     "name": "stdout",
     "output_type": "stream",
     "text": [
      "0.9998571428571429\n"
     ]
    }
   ],
   "source": [
    "# 평가\n",
    "from sklearn.metrics import roc_auc_score\n",
    "print(roc_auc_score(Y_TEST,Y_TEST_PRED))"
   ]
  },
  {
   "cell_type": "code",
   "execution_count": 9,
   "metadata": {},
   "outputs": [],
   "source": [
    "# 최종제출\n",
    "y_test_pred = model.predict_proba(x_test)[:,1]\n",
    "result = pd.DataFrame(y_test_pred)\n",
    "final = pd.concat([x_test_ID, result], axis =1).rename(columns = {0: 'pose'})\n",
    "final.to_csv('123456.csv', index = False)"
   ]
  },
  {
   "cell_type": "code",
   "execution_count": 10,
   "metadata": {},
   "outputs": [
    {
     "name": "stdout",
     "output_type": "stream",
     "text": [
      "        ID  pose\n",
      "0        1  1.00\n",
      "1        3  1.00\n",
      "2        8  1.00\n",
      "3       10  1.00\n",
      "4       17  0.00\n",
      "...    ...   ...\n",
      "1158  5786  0.03\n",
      "1159  5796  0.01\n",
      "1160  5802  1.00\n",
      "1161  5811  0.94\n",
      "1162  5812  0.01\n",
      "\n",
      "[1163 rows x 2 columns]\n"
     ]
    }
   ],
   "source": [
    "# 제출확인\n",
    "check = pd.read_csv('123456.csv')\n",
    "print(check)"
   ]
  }
 ],
 "metadata": {
  "kernelspec": {
   "display_name": "ds_study",
   "language": "python",
   "name": "python3"
  },
  "language_info": {
   "codemirror_mode": {
    "name": "ipython",
    "version": 3
   },
   "file_extension": ".py",
   "mimetype": "text/x-python",
   "name": "python",
   "nbconvert_exporter": "python",
   "pygments_lexer": "ipython3",
   "version": "3.8.15"
  },
  "orig_nbformat": 4,
  "vscode": {
   "interpreter": {
    "hash": "48b47ef07f8cbb10516d394180ce5ec5d2bd717fb884a02594f05e6ba15d1713"
   }
  }
 },
 "nbformat": 4,
 "nbformat_minor": 2
}
