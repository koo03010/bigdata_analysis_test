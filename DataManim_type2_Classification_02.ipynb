{
 "cells": [
  {
   "cell_type": "markdown",
   "metadata": {},
   "source": [
    "## 빅데이터분석기사 작업형 2"
   ]
  },
  {
   "cell_type": "markdown",
   "metadata": {},
   "source": [
    "이직여부 판단 데이터\n",
    "- 데이터 설명 : 이직여부 판단 데이터 (target: 1: 이직 , 0 : 이직 x)\n",
    "- x_train: https://raw.githubusercontent.com/Datamanim/datarepo/main/HRdata/X_train.csv\n",
    "- y_train: https://raw.githubusercontent.com/Datamanim/datarepo/main/HRdata/y_train.csv\n",
    "- x_test: https://raw.githubusercontent.com/Datamanim/datarepo/main/HRdata/X_test.csv\n",
    "- x_label(평가용) : https://raw.githubusercontent.com/Datamanim/datarepo/main/HRdata/y_test.csv\n",
    "- 데이터 출처 :https://www.kaggle.com/datasets/arashnic/hr-analytics-job-change-of-data-scientists (참고, 데이터 수정)"
   ]
  },
  {
   "cell_type": "code",
   "execution_count": 1,
   "metadata": {},
   "outputs": [
    {
     "data": {
      "text/html": [
       "<div>\n",
       "<style scoped>\n",
       "    .dataframe tbody tr th:only-of-type {\n",
       "        vertical-align: middle;\n",
       "    }\n",
       "\n",
       "    .dataframe tbody tr th {\n",
       "        vertical-align: top;\n",
       "    }\n",
       "\n",
       "    .dataframe thead th {\n",
       "        text-align: right;\n",
       "    }\n",
       "</style>\n",
       "<table border=\"1\" class=\"dataframe\">\n",
       "  <thead>\n",
       "    <tr style=\"text-align: right;\">\n",
       "      <th></th>\n",
       "      <th>enrollee_id</th>\n",
       "      <th>city</th>\n",
       "      <th>city_development_index</th>\n",
       "      <th>gender</th>\n",
       "      <th>relevent_experience</th>\n",
       "      <th>enrolled_university</th>\n",
       "      <th>education_level</th>\n",
       "      <th>major_discipline</th>\n",
       "      <th>experience</th>\n",
       "      <th>company_size</th>\n",
       "      <th>company_type</th>\n",
       "      <th>last_new_job</th>\n",
       "      <th>training_hours</th>\n",
       "    </tr>\n",
       "  </thead>\n",
       "  <tbody>\n",
       "    <tr>\n",
       "      <th>0</th>\n",
       "      <td>25298</td>\n",
       "      <td>city_138</td>\n",
       "      <td>0.836</td>\n",
       "      <td>Male</td>\n",
       "      <td>No relevent experience</td>\n",
       "      <td>Full time course</td>\n",
       "      <td>High School</td>\n",
       "      <td>NaN</td>\n",
       "      <td>5</td>\n",
       "      <td>100-500</td>\n",
       "      <td>Pvt Ltd</td>\n",
       "      <td>1</td>\n",
       "      <td>45</td>\n",
       "    </tr>\n",
       "    <tr>\n",
       "      <th>1</th>\n",
       "      <td>4241</td>\n",
       "      <td>city_160</td>\n",
       "      <td>0.920</td>\n",
       "      <td>Male</td>\n",
       "      <td>No relevent experience</td>\n",
       "      <td>Full time course</td>\n",
       "      <td>High School</td>\n",
       "      <td>NaN</td>\n",
       "      <td>5</td>\n",
       "      <td>NaN</td>\n",
       "      <td>NaN</td>\n",
       "      <td>1</td>\n",
       "      <td>17</td>\n",
       "    </tr>\n",
       "    <tr>\n",
       "      <th>2</th>\n",
       "      <td>24086</td>\n",
       "      <td>city_57</td>\n",
       "      <td>0.866</td>\n",
       "      <td>Male</td>\n",
       "      <td>No relevent experience</td>\n",
       "      <td>no_enrollment</td>\n",
       "      <td>Graduate</td>\n",
       "      <td>STEM</td>\n",
       "      <td>10</td>\n",
       "      <td>NaN</td>\n",
       "      <td>NaN</td>\n",
       "      <td>1</td>\n",
       "      <td>50</td>\n",
       "    </tr>\n",
       "    <tr>\n",
       "      <th>3</th>\n",
       "      <td>26773</td>\n",
       "      <td>city_16</td>\n",
       "      <td>0.910</td>\n",
       "      <td>Male</td>\n",
       "      <td>Has relevent experience</td>\n",
       "      <td>no_enrollment</td>\n",
       "      <td>Graduate</td>\n",
       "      <td>STEM</td>\n",
       "      <td>&gt;20</td>\n",
       "      <td>50-99</td>\n",
       "      <td>Pvt Ltd</td>\n",
       "      <td>&gt;4</td>\n",
       "      <td>135</td>\n",
       "    </tr>\n",
       "    <tr>\n",
       "      <th>4</th>\n",
       "      <td>32325</td>\n",
       "      <td>city_143</td>\n",
       "      <td>0.740</td>\n",
       "      <td>NaN</td>\n",
       "      <td>No relevent experience</td>\n",
       "      <td>Full time course</td>\n",
       "      <td>Graduate</td>\n",
       "      <td>STEM</td>\n",
       "      <td>5</td>\n",
       "      <td>NaN</td>\n",
       "      <td>NaN</td>\n",
       "      <td>never</td>\n",
       "      <td>17</td>\n",
       "    </tr>\n",
       "  </tbody>\n",
       "</table>\n",
       "</div>"
      ],
      "text/plain": [
       "   enrollee_id      city  city_development_index gender  \\\n",
       "0        25298  city_138                   0.836   Male   \n",
       "1         4241  city_160                   0.920   Male   \n",
       "2        24086   city_57                   0.866   Male   \n",
       "3        26773   city_16                   0.910   Male   \n",
       "4        32325  city_143                   0.740    NaN   \n",
       "\n",
       "       relevent_experience enrolled_university education_level  \\\n",
       "0   No relevent experience    Full time course     High School   \n",
       "1   No relevent experience    Full time course     High School   \n",
       "2   No relevent experience       no_enrollment        Graduate   \n",
       "3  Has relevent experience       no_enrollment        Graduate   \n",
       "4   No relevent experience    Full time course        Graduate   \n",
       "\n",
       "  major_discipline experience company_size company_type last_new_job  \\\n",
       "0              NaN          5      100-500      Pvt Ltd            1   \n",
       "1              NaN          5          NaN          NaN            1   \n",
       "2             STEM         10          NaN          NaN            1   \n",
       "3             STEM        >20        50-99      Pvt Ltd           >4   \n",
       "4             STEM          5          NaN          NaN        never   \n",
       "\n",
       "   training_hours  \n",
       "0              45  \n",
       "1              17  \n",
       "2              50  \n",
       "3             135  \n",
       "4              17  "
      ]
     },
     "metadata": {},
     "output_type": "display_data"
    },
    {
     "data": {
      "text/html": [
       "<div>\n",
       "<style scoped>\n",
       "    .dataframe tbody tr th:only-of-type {\n",
       "        vertical-align: middle;\n",
       "    }\n",
       "\n",
       "    .dataframe tbody tr th {\n",
       "        vertical-align: top;\n",
       "    }\n",
       "\n",
       "    .dataframe thead th {\n",
       "        text-align: right;\n",
       "    }\n",
       "</style>\n",
       "<table border=\"1\" class=\"dataframe\">\n",
       "  <thead>\n",
       "    <tr style=\"text-align: right;\">\n",
       "      <th></th>\n",
       "      <th>enrollee_id</th>\n",
       "      <th>target</th>\n",
       "    </tr>\n",
       "  </thead>\n",
       "  <tbody>\n",
       "    <tr>\n",
       "      <th>0</th>\n",
       "      <td>25298</td>\n",
       "      <td>0.0</td>\n",
       "    </tr>\n",
       "    <tr>\n",
       "      <th>1</th>\n",
       "      <td>4241</td>\n",
       "      <td>1.0</td>\n",
       "    </tr>\n",
       "    <tr>\n",
       "      <th>2</th>\n",
       "      <td>24086</td>\n",
       "      <td>0.0</td>\n",
       "    </tr>\n",
       "    <tr>\n",
       "      <th>3</th>\n",
       "      <td>26773</td>\n",
       "      <td>0.0</td>\n",
       "    </tr>\n",
       "    <tr>\n",
       "      <th>4</th>\n",
       "      <td>32325</td>\n",
       "      <td>1.0</td>\n",
       "    </tr>\n",
       "  </tbody>\n",
       "</table>\n",
       "</div>"
      ],
      "text/plain": [
       "   enrollee_id  target\n",
       "0        25298     0.0\n",
       "1         4241     1.0\n",
       "2        24086     0.0\n",
       "3        26773     0.0\n",
       "4        32325     1.0"
      ]
     },
     "metadata": {},
     "output_type": "display_data"
    }
   ],
   "source": [
    "import pandas as pd\n",
    "#데이터 로드\n",
    "x_train = pd.read_csv(\"https://raw.githubusercontent.com/Datamanim/datarepo/main/HRdata/X_train.csv\")\n",
    "y_train = pd.read_csv(\"https://raw.githubusercontent.com/Datamanim/datarepo/main/HRdata/y_train.csv\")\n",
    "x_test= pd.read_csv(\"https://raw.githubusercontent.com/Datamanim/datarepo/main/HRdata/X_test.csv\")\n",
    "\n",
    "display(x_train.head())\n",
    "display(y_train.head())"
   ]
  },
  {
   "cell_type": "code",
   "execution_count": 2,
   "metadata": {},
   "outputs": [
    {
     "name": "stdout",
     "output_type": "stream",
     "text": [
      "enrollee_id                  0\n",
      "city                         0\n",
      "city_development_index       0\n",
      "gender                    2917\n",
      "relevent_experience          0\n",
      "enrolled_university        257\n",
      "education_level            315\n",
      "major_discipline          1866\n",
      "experience                  37\n",
      "company_size              3852\n",
      "company_type              3981\n",
      "last_new_job               273\n",
      "training_hours               0\n",
      "dtype: int64\n",
      "enrollee_id                  0\n",
      "city                         0\n",
      "city_development_index       0\n",
      "gender                    1591\n",
      "relevent_experience          0\n",
      "enrolled_university        129\n",
      "education_level            145\n",
      "major_discipline           947\n",
      "experience                  28\n",
      "company_size              2086\n",
      "company_type              2159\n",
      "last_new_job               150\n",
      "training_hours               0\n",
      "dtype: int64\n"
     ]
    }
   ],
   "source": [
    "#결측치파악\n",
    "print(x_train.isna().sum())\n",
    "print(x_test.isna().sum())"
   ]
  },
  {
   "cell_type": "code",
   "execution_count": 3,
   "metadata": {},
   "outputs": [],
   "source": [
    "#결측치처리\n",
    "x_train['gender'] = x_train['gender'].fillna(0)\n",
    "x_train['enrolled_university'] = x_train['enrolled_university'].fillna(0)\n",
    "x_train['education_level'] = x_train['education_level'].fillna(0)\n",
    "x_train['major_discipline'] = x_train['major_discipline'].fillna(0)\n",
    "x_train['experience'] = x_train['experience'].fillna(0)\n",
    "x_train['company_size'] = x_train['company_size'].fillna(0)\n",
    "x_train['company_type'] = x_train['company_type'].fillna(0)\n",
    "x_train['last_new_job'] = x_train['last_new_job'].fillna(0)\n",
    "\n",
    "x_test['gender'] = x_test['gender'].fillna(0)\n",
    "x_test['enrolled_university'] = x_test['enrolled_university'].fillna(0)\n",
    "x_test['education_level'] = x_test['education_level'].fillna(0)\n",
    "x_test['major_discipline'] = x_test['major_discipline'].fillna(0)\n",
    "x_test['experience'] = x_test['experience'].fillna(0)\n",
    "x_test['company_size'] = x_test['company_size'].fillna(0)\n",
    "x_test['company_type'] = x_test['company_type'].fillna(0)\n",
    "x_test['last_new_job'] = x_test['last_new_job'].fillna(0)"
   ]
  },
  {
   "cell_type": "code",
   "execution_count": 4,
   "metadata": {},
   "outputs": [],
   "source": [
    "#불필요한 컬럼제거\n",
    "x_test_enrollee_id = x_test['enrollee_id']\n",
    "x_train = x_train.drop(columns = ['enrollee_id','city'], axis = 1)\n",
    "x_test = x_test.drop(columns = ['enrollee_id','city'], axis = 1)"
   ]
  },
  {
   "cell_type": "code",
   "execution_count": 5,
   "metadata": {},
   "outputs": [
    {
     "name": "stdout",
     "output_type": "stream",
     "text": [
      "Index(['gender', 'relevent_experience', 'enrolled_university',\n",
      "       'education_level', 'major_discipline', 'experience', 'company_size',\n",
      "       'company_type', 'last_new_job'],\n",
      "      dtype='object')\n",
      "Index(['city_development_index', 'training_hours'], dtype='object')\n"
     ]
    }
   ],
   "source": [
    "# 범주형(object), 수치형(number) 변수 파악\n",
    "obj = x_train.select_dtypes(include = 'object').columns\n",
    "num = x_train.select_dtypes(include = 'number').columns\n",
    "print(obj)\n",
    "print(num) "
   ]
  },
  {
   "cell_type": "code",
   "execution_count": 6,
   "metadata": {},
   "outputs": [],
   "source": [
    "# 범주형 변수(object) 전처리\n",
    "x_train = pd.get_dummies(x_train)\n",
    "x_test = pd.get_dummies(x_test)"
   ]
  },
  {
   "cell_type": "code",
   "execution_count": 7,
   "metadata": {},
   "outputs": [],
   "source": [
    "# 수치형 변수(number) 전처리\n",
    "from sklearn.preprocessing import StandardScaler\n",
    "scaler = StandardScaler()\n",
    "x_train = scaler.fit_transform(x_train)\n",
    "x_test = scaler.fit_transform(x_test)"
   ]
  },
  {
   "cell_type": "code",
   "execution_count": 8,
   "metadata": {},
   "outputs": [],
   "source": [
    "# 모델링을 위해 데이터분리(data split)\n",
    "from sklearn.model_selection import train_test_split\n",
    "X_TRAIN, X_TEST, Y_TRAIN, Y_TEST = train_test_split(x_train, y_train['target'], test_size = 0.3, random_state = 1234)"
   ]
  },
  {
   "cell_type": "code",
   "execution_count": 9,
   "metadata": {},
   "outputs": [],
   "source": [
    "# 모델링\n",
    "from sklearn.ensemble import RandomForestClassifier\n",
    "model = RandomForestClassifier()\n",
    "model.fit(X_TRAIN, Y_TRAIN)\n",
    "Y_TEST_PRED = model.predict_proba(X_TEST)[:,1]"
   ]
  },
  {
   "cell_type": "code",
   "execution_count": 10,
   "metadata": {},
   "outputs": [
    {
     "name": "stdout",
     "output_type": "stream",
     "text": [
      "0.7922313682168454\n"
     ]
    }
   ],
   "source": [
    "# 평가\n",
    "from sklearn.metrics import roc_auc_score\n",
    "print(roc_auc_score(Y_TEST, Y_TEST_PRED))"
   ]
  },
  {
   "cell_type": "code",
   "execution_count": 11,
   "metadata": {},
   "outputs": [
    {
     "name": "stdout",
     "output_type": "stream",
     "text": [
      "         0\n",
      "0     0.81\n",
      "1     0.60\n",
      "2     0.53\n",
      "3     0.49\n",
      "4     0.24\n",
      "...    ...\n",
      "6701  0.12\n",
      "6702  0.36\n",
      "6703  0.22\n",
      "6704  0.40\n",
      "6705  0.48\n",
      "\n",
      "[6706 rows x 1 columns]\n",
      "      enrollee_id  target\n",
      "0            7129    0.81\n",
      "1           31037    0.60\n",
      "2           22179    0.53\n",
      "3           29724    0.49\n",
      "4           17977    0.24\n",
      "...           ...     ...\n",
      "6701         3601    0.12\n",
      "6702         2745    0.36\n",
      "6703        18520    0.22\n",
      "6704        10067    0.40\n",
      "6705         8203    0.48\n",
      "\n",
      "[6706 rows x 2 columns]\n"
     ]
    }
   ],
   "source": [
    "#최종제출\n",
    "y_test_pred = model.predict_proba(x_test)[:,1]\n",
    "result = pd.DataFrame(y_test_pred)\n",
    "print(result)\n",
    "final = pd.concat([x_test_enrollee_id, result], axis = 1).rename(columns = {0:'target'})\n",
    "print(final)\n",
    "final.to_csv('123456.csv', index= False)"
   ]
  },
  {
   "cell_type": "code",
   "execution_count": 12,
   "metadata": {},
   "outputs": [
    {
     "name": "stdout",
     "output_type": "stream",
     "text": [
      "      enrollee_id  target\n",
      "0            7129    0.81\n",
      "1           31037    0.60\n",
      "2           22179    0.53\n",
      "3           29724    0.49\n",
      "4           17977    0.24\n",
      "...           ...     ...\n",
      "6701         3601    0.12\n",
      "6702         2745    0.36\n",
      "6703        18520    0.22\n",
      "6704        10067    0.40\n",
      "6705         8203    0.48\n",
      "\n",
      "[6706 rows x 2 columns]\n"
     ]
    }
   ],
   "source": [
    "#제출확인\n",
    "check = pd.read_csv('123456.csv')\n",
    "print(check)"
   ]
  }
 ],
 "metadata": {
  "kernelspec": {
   "display_name": "ds_study",
   "language": "python",
   "name": "python3"
  },
  "language_info": {
   "codemirror_mode": {
    "name": "ipython",
    "version": 3
   },
   "file_extension": ".py",
   "mimetype": "text/x-python",
   "name": "python",
   "nbconvert_exporter": "python",
   "pygments_lexer": "ipython3",
   "version": "3.8.15 (default, Nov 24 2022, 14:38:14) [MSC v.1916 64 bit (AMD64)]"
  },
  "orig_nbformat": 4,
  "vscode": {
   "interpreter": {
    "hash": "48b47ef07f8cbb10516d394180ce5ec5d2bd717fb884a02594f05e6ba15d1713"
   }
  }
 },
 "nbformat": 4,
 "nbformat_minor": 2
}
