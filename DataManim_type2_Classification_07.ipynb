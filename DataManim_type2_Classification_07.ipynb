{
 "cells": [
  {
   "cell_type": "markdown",
   "metadata": {},
   "source": [
    "## 빅데이터분석기사 작업형 2"
   ]
  },
  {
   "cell_type": "markdown",
   "metadata": {},
   "source": [
    "수질 음용성 여부 데이터\n",
    "- 데이터 설명 : 수질 음용성 여부 (Potablillity 컬럼 : 0 ,1 )\n",
    "- x_train: https://raw.githubusercontent.com/Datamanim/datarepo/main/waters/x_train.csv\n",
    "- y_train: https://raw.githubusercontent.com/Datamanim/datarepo/main/waters/y_train.csv\n",
    "- x_test: https://raw.githubusercontent.com/Datamanim/datarepo/main/waters/x_test.csv\n",
    "- x_label(평가용) : https://raw.githubusercontent.com/Datamanim/datarepo/main/waters/y_test.csv\n",
    "- 데이터 출처 :https://www.kaggle.com/adityakadiwal/water-potability"
   ]
  },
  {
   "cell_type": "code",
   "execution_count": 1,
   "metadata": {},
   "outputs": [
    {
     "data": {
      "text/html": [
       "<div>\n",
       "<style scoped>\n",
       "    .dataframe tbody tr th:only-of-type {\n",
       "        vertical-align: middle;\n",
       "    }\n",
       "\n",
       "    .dataframe tbody tr th {\n",
       "        vertical-align: top;\n",
       "    }\n",
       "\n",
       "    .dataframe thead th {\n",
       "        text-align: right;\n",
       "    }\n",
       "</style>\n",
       "<table border=\"1\" class=\"dataframe\">\n",
       "  <thead>\n",
       "    <tr style=\"text-align: right;\">\n",
       "      <th></th>\n",
       "      <th>ID</th>\n",
       "      <th>ph</th>\n",
       "      <th>Hardness</th>\n",
       "      <th>Solids</th>\n",
       "      <th>Chloramines</th>\n",
       "      <th>Sulfate</th>\n",
       "      <th>Conductivity</th>\n",
       "      <th>Organic_carbon</th>\n",
       "      <th>Trihalomethanes</th>\n",
       "      <th>Turbidity</th>\n",
       "    </tr>\n",
       "  </thead>\n",
       "  <tbody>\n",
       "    <tr>\n",
       "      <th>0</th>\n",
       "      <td>0</td>\n",
       "      <td>8.662710</td>\n",
       "      <td>173.531947</td>\n",
       "      <td>20333.079495</td>\n",
       "      <td>5.636388</td>\n",
       "      <td>439.787938</td>\n",
       "      <td>459.633120</td>\n",
       "      <td>16.283311</td>\n",
       "      <td>89.924253</td>\n",
       "      <td>5.120103</td>\n",
       "    </tr>\n",
       "    <tr>\n",
       "      <th>1</th>\n",
       "      <td>1</td>\n",
       "      <td>NaN</td>\n",
       "      <td>226.270824</td>\n",
       "      <td>15380.124079</td>\n",
       "      <td>6.661474</td>\n",
       "      <td>NaN</td>\n",
       "      <td>392.558205</td>\n",
       "      <td>14.083110</td>\n",
       "      <td>50.286395</td>\n",
       "      <td>4.516870</td>\n",
       "    </tr>\n",
       "    <tr>\n",
       "      <th>2</th>\n",
       "      <td>2</td>\n",
       "      <td>7.583770</td>\n",
       "      <td>217.283262</td>\n",
       "      <td>36343.407055</td>\n",
       "      <td>8.532726</td>\n",
       "      <td>375.964391</td>\n",
       "      <td>393.877683</td>\n",
       "      <td>17.442301</td>\n",
       "      <td>77.722257</td>\n",
       "      <td>3.642289</td>\n",
       "    </tr>\n",
       "    <tr>\n",
       "      <th>3</th>\n",
       "      <td>3</td>\n",
       "      <td>6.584813</td>\n",
       "      <td>182.375456</td>\n",
       "      <td>24723.106296</td>\n",
       "      <td>6.238920</td>\n",
       "      <td>NaN</td>\n",
       "      <td>414.350751</td>\n",
       "      <td>17.582615</td>\n",
       "      <td>78.213738</td>\n",
       "      <td>4.404132</td>\n",
       "    </tr>\n",
       "    <tr>\n",
       "      <th>4</th>\n",
       "      <td>4</td>\n",
       "      <td>7.179864</td>\n",
       "      <td>180.854211</td>\n",
       "      <td>10859.553752</td>\n",
       "      <td>8.263503</td>\n",
       "      <td>341.302486</td>\n",
       "      <td>358.056264</td>\n",
       "      <td>12.065317</td>\n",
       "      <td>83.329918</td>\n",
       "      <td>3.878447</td>\n",
       "    </tr>\n",
       "  </tbody>\n",
       "</table>\n",
       "</div>"
      ],
      "text/plain": [
       "   ID        ph    Hardness        Solids  Chloramines     Sulfate  \\\n",
       "0   0  8.662710  173.531947  20333.079495     5.636388  439.787938   \n",
       "1   1       NaN  226.270824  15380.124079     6.661474         NaN   \n",
       "2   2  7.583770  217.283262  36343.407055     8.532726  375.964391   \n",
       "3   3  6.584813  182.375456  24723.106296     6.238920         NaN   \n",
       "4   4  7.179864  180.854211  10859.553752     8.263503  341.302486   \n",
       "\n",
       "   Conductivity  Organic_carbon  Trihalomethanes  Turbidity  \n",
       "0    459.633120       16.283311        89.924253   5.120103  \n",
       "1    392.558205       14.083110        50.286395   4.516870  \n",
       "2    393.877683       17.442301        77.722257   3.642289  \n",
       "3    414.350751       17.582615        78.213738   4.404132  \n",
       "4    358.056264       12.065317        83.329918   3.878447  "
      ]
     },
     "metadata": {},
     "output_type": "display_data"
    },
    {
     "data": {
      "text/html": [
       "<div>\n",
       "<style scoped>\n",
       "    .dataframe tbody tr th:only-of-type {\n",
       "        vertical-align: middle;\n",
       "    }\n",
       "\n",
       "    .dataframe tbody tr th {\n",
       "        vertical-align: top;\n",
       "    }\n",
       "\n",
       "    .dataframe thead th {\n",
       "        text-align: right;\n",
       "    }\n",
       "</style>\n",
       "<table border=\"1\" class=\"dataframe\">\n",
       "  <thead>\n",
       "    <tr style=\"text-align: right;\">\n",
       "      <th></th>\n",
       "      <th>ID</th>\n",
       "      <th>Potability</th>\n",
       "    </tr>\n",
       "  </thead>\n",
       "  <tbody>\n",
       "    <tr>\n",
       "      <th>0</th>\n",
       "      <td>0</td>\n",
       "      <td>0</td>\n",
       "    </tr>\n",
       "    <tr>\n",
       "      <th>1</th>\n",
       "      <td>1</td>\n",
       "      <td>1</td>\n",
       "    </tr>\n",
       "    <tr>\n",
       "      <th>2</th>\n",
       "      <td>2</td>\n",
       "      <td>0</td>\n",
       "    </tr>\n",
       "    <tr>\n",
       "      <th>3</th>\n",
       "      <td>3</td>\n",
       "      <td>0</td>\n",
       "    </tr>\n",
       "    <tr>\n",
       "      <th>4</th>\n",
       "      <td>4</td>\n",
       "      <td>0</td>\n",
       "    </tr>\n",
       "  </tbody>\n",
       "</table>\n",
       "</div>"
      ],
      "text/plain": [
       "   ID  Potability\n",
       "0   0           0\n",
       "1   1           1\n",
       "2   2           0\n",
       "3   3           0\n",
       "4   4           0"
      ]
     },
     "metadata": {},
     "output_type": "display_data"
    }
   ],
   "source": [
    "import pandas as pd\n",
    "#데이터 로드\n",
    "x_train = pd.read_csv(\"https://raw.githubusercontent.com/Datamanim/datarepo/main/waters/x_train.csv\")\n",
    "y_train = pd.read_csv(\"https://raw.githubusercontent.com/Datamanim/datarepo/main/waters/y_train.csv\")\n",
    "x_test= pd.read_csv(\"https://raw.githubusercontent.com/Datamanim/datarepo/main/waters/x_test.csv\")\n",
    "\n",
    "display(x_train.head())\n",
    "display(y_train.head())"
   ]
  },
  {
   "cell_type": "code",
   "execution_count": 2,
   "metadata": {},
   "outputs": [
    {
     "name": "stdout",
     "output_type": "stream",
     "text": [
      "ID                   0\n",
      "ph                 395\n",
      "Hardness             0\n",
      "Solids               0\n",
      "Chloramines          0\n",
      "Sulfate            617\n",
      "Conductivity         0\n",
      "Organic_carbon       0\n",
      "Trihalomethanes    132\n",
      "Turbidity            0\n",
      "dtype: int64\n",
      "ID                   0\n",
      "ph                 107\n",
      "Hardness             0\n",
      "Solids               0\n",
      "Chloramines          0\n",
      "Sulfate            152\n",
      "Conductivity         0\n",
      "Organic_carbon       0\n",
      "Trihalomethanes     38\n",
      "Turbidity            0\n",
      "dtype: int64\n"
     ]
    }
   ],
   "source": [
    "# 결측치 확인\n",
    "print(x_train.isna().sum())\n",
    "print(x_test.isna().sum())"
   ]
  },
  {
   "cell_type": "code",
   "execution_count": 3,
   "metadata": {},
   "outputs": [],
   "source": [
    "# 결측치 처리\n",
    "x_train['ph'] = x_train['ph'].fillna(0)\n",
    "x_train['Sulfate'] = x_train['Sulfate'].fillna(0)\n",
    "x_train['Trihalomethanes'] = x_train['Trihalomethanes'].fillna(0)\n",
    "\n",
    "x_test['ph'] = x_test['ph'].fillna(0)\n",
    "x_test['Sulfate'] = x_test['Sulfate'].fillna(0)\n",
    "x_test['Trihalomethanes'] = x_test['Trihalomethanes'].fillna(0)"
   ]
  },
  {
   "cell_type": "code",
   "execution_count": 4,
   "metadata": {},
   "outputs": [],
   "source": [
    "# 불필요한 컬럼 제거\n",
    "x_test_ID  = x_test['ID']\n",
    "x_train = x_train.drop(columns = ['ID'], axis = 1)\n",
    "x_test = x_test.drop(columns = ['ID'], axis = 1)"
   ]
  },
  {
   "cell_type": "code",
   "execution_count": 5,
   "metadata": {},
   "outputs": [
    {
     "name": "stdout",
     "output_type": "stream",
     "text": [
      "Index([], dtype='object')\n",
      "Index(['ph', 'Hardness', 'Solids', 'Chloramines', 'Sulfate', 'Conductivity',\n",
      "       'Organic_carbon', 'Trihalomethanes', 'Turbidity'],\n",
      "      dtype='object')\n"
     ]
    }
   ],
   "source": [
    "# 범주형, 수치형 변수 확인\n",
    "obj = x_train.select_dtypes(include = 'object').columns\n",
    "num = x_train.select_dtypes(include = 'number').columns\n",
    "\n",
    "print(obj)\n",
    "print(num)"
   ]
  },
  {
   "cell_type": "code",
   "execution_count": 6,
   "metadata": {},
   "outputs": [],
   "source": [
    "# 수치형 변수 전처리\n",
    "from sklearn.preprocessing import StandardScaler\n",
    "scaler = StandardScaler()\n",
    "x_train = scaler.fit_transform(x_train)\n",
    "x_test = scaler.fit_transform(x_test)"
   ]
  },
  {
   "cell_type": "code",
   "execution_count": 7,
   "metadata": {},
   "outputs": [],
   "source": [
    "# 데이터분리\n",
    "from sklearn.model_selection import train_test_split\n",
    "X_TRAIN, X_TEST, Y_TRAIN, Y_TEST  = train_test_split(x_train, y_train['Potability'], test_size = 0.3, random_state = 1234)"
   ]
  },
  {
   "cell_type": "code",
   "execution_count": 8,
   "metadata": {},
   "outputs": [],
   "source": [
    "# 모델링\n",
    "from sklearn.ensemble import RandomForestClassifier\n",
    "model = RandomForestClassifier()\n",
    "model.fit(X_TRAIN,Y_TRAIN)\n",
    "Y_TEST_PRED = model.predict_proba(X_TEST)[:,1]"
   ]
  },
  {
   "cell_type": "code",
   "execution_count": 9,
   "metadata": {},
   "outputs": [
    {
     "name": "stdout",
     "output_type": "stream",
     "text": [
      "0.633869537171424\n"
     ]
    }
   ],
   "source": [
    "# 평가\n",
    "from sklearn.metrics import roc_auc_score\n",
    "print(roc_auc_score(Y_TEST, Y_TEST_PRED))"
   ]
  },
  {
   "cell_type": "code",
   "execution_count": 10,
   "metadata": {},
   "outputs": [],
   "source": [
    "# 최종제출\n",
    "y_test_pred = model.predict_proba(x_test)[:,1]\n",
    "result = pd.DataFrame(y_test_pred)\n",
    "final = pd.concat([x_test_ID, result], axis= 1).rename(columns = {0:'Potability'})\n",
    "final.to_csv('123456.csv', index = False)"
   ]
  },
  {
   "cell_type": "code",
   "execution_count": 11,
   "metadata": {},
   "outputs": [
    {
     "name": "stdout",
     "output_type": "stream",
     "text": [
      "       ID  Potability\n",
      "0      16        0.53\n",
      "1      20        0.62\n",
      "2      23        0.68\n",
      "3      37        0.26\n",
      "4      38        0.16\n",
      "..    ...         ...\n",
      "651  3267        0.48\n",
      "652  3269        0.14\n",
      "653  3272        0.62\n",
      "654  3273        0.43\n",
      "655  3274        0.19\n",
      "\n",
      "[656 rows x 2 columns]\n"
     ]
    }
   ],
   "source": [
    "# 제출확인\n",
    "check = pd.read_csv('123456.csv')\n",
    "print(check)"
   ]
  }
 ],
 "metadata": {
  "kernelspec": {
   "display_name": "ds_study",
   "language": "python",
   "name": "python3"
  },
  "language_info": {
   "codemirror_mode": {
    "name": "ipython",
    "version": 3
   },
   "file_extension": ".py",
   "mimetype": "text/x-python",
   "name": "python",
   "nbconvert_exporter": "python",
   "pygments_lexer": "ipython3",
   "version": "3.8.15"
  },
  "orig_nbformat": 4,
  "vscode": {
   "interpreter": {
    "hash": "48b47ef07f8cbb10516d394180ce5ec5d2bd717fb884a02594f05e6ba15d1713"
   }
  }
 },
 "nbformat": 4,
 "nbformat_minor": 2
}
