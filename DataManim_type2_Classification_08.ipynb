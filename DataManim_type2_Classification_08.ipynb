{
 "cells": [
  {
   "cell_type": "markdown",
   "metadata": {},
   "source": [
    "## 빅데이터분석기사 작업형 2"
   ]
  },
  {
   "cell_type": "markdown",
   "metadata": {},
   "source": [
    "약물 분류 데이터\n",
    "- 데이터 설명 : 투약하는 약을 분류 (종속변수 :Drug)\n",
    "- x_train: https://raw.githubusercontent.com/Datamanim/datarepo/main/drug/x_train.csv\n",
    "- y_train: https://raw.githubusercontent.com/Datamanim/datarepo/main/drug/y_train.csv\n",
    "- x_test: https://raw.githubusercontent.com/Datamanim/datarepo/main/drug/x_test.csv\n",
    "- x_label(평가용) : https://raw.githubusercontent.com/Datamanim/datarepo/main/drug/y_test.csv\n",
    "- 데이터 출처 :https://www.kaggle.com/prathamtripathi/drug-classification(참고, 데이터 수정)"
   ]
  },
  {
   "cell_type": "code",
   "execution_count": 1,
   "metadata": {},
   "outputs": [
    {
     "data": {
      "text/html": [
       "<div>\n",
       "<style scoped>\n",
       "    .dataframe tbody tr th:only-of-type {\n",
       "        vertical-align: middle;\n",
       "    }\n",
       "\n",
       "    .dataframe tbody tr th {\n",
       "        vertical-align: top;\n",
       "    }\n",
       "\n",
       "    .dataframe thead th {\n",
       "        text-align: right;\n",
       "    }\n",
       "</style>\n",
       "<table border=\"1\" class=\"dataframe\">\n",
       "  <thead>\n",
       "    <tr style=\"text-align: right;\">\n",
       "      <th></th>\n",
       "      <th>ID</th>\n",
       "      <th>Age</th>\n",
       "      <th>Sex</th>\n",
       "      <th>BP</th>\n",
       "      <th>Cholesterol</th>\n",
       "      <th>Na_to_K</th>\n",
       "    </tr>\n",
       "  </thead>\n",
       "  <tbody>\n",
       "    <tr>\n",
       "      <th>0</th>\n",
       "      <td>0</td>\n",
       "      <td>36</td>\n",
       "      <td>F</td>\n",
       "      <td>NORMAL</td>\n",
       "      <td>HIGH</td>\n",
       "      <td>16.753</td>\n",
       "    </tr>\n",
       "    <tr>\n",
       "      <th>1</th>\n",
       "      <td>1</td>\n",
       "      <td>47</td>\n",
       "      <td>F</td>\n",
       "      <td>LOW</td>\n",
       "      <td>HIGH</td>\n",
       "      <td>11.767</td>\n",
       "    </tr>\n",
       "    <tr>\n",
       "      <th>2</th>\n",
       "      <td>2</td>\n",
       "      <td>69</td>\n",
       "      <td>F</td>\n",
       "      <td>NORMAL</td>\n",
       "      <td>HIGH</td>\n",
       "      <td>10.065</td>\n",
       "    </tr>\n",
       "    <tr>\n",
       "      <th>3</th>\n",
       "      <td>3</td>\n",
       "      <td>35</td>\n",
       "      <td>M</td>\n",
       "      <td>LOW</td>\n",
       "      <td>NORMAL</td>\n",
       "      <td>9.170</td>\n",
       "    </tr>\n",
       "    <tr>\n",
       "      <th>4</th>\n",
       "      <td>4</td>\n",
       "      <td>49</td>\n",
       "      <td>M</td>\n",
       "      <td>LOW</td>\n",
       "      <td>NORMAL</td>\n",
       "      <td>11.014</td>\n",
       "    </tr>\n",
       "  </tbody>\n",
       "</table>\n",
       "</div>"
      ],
      "text/plain": [
       "   ID  Age Sex      BP Cholesterol  Na_to_K\n",
       "0   0   36   F  NORMAL        HIGH   16.753\n",
       "1   1   47   F     LOW        HIGH   11.767\n",
       "2   2   69   F  NORMAL        HIGH   10.065\n",
       "3   3   35   M     LOW      NORMAL    9.170\n",
       "4   4   49   M     LOW      NORMAL   11.014"
      ]
     },
     "metadata": {},
     "output_type": "display_data"
    },
    {
     "data": {
      "text/html": [
       "<div>\n",
       "<style scoped>\n",
       "    .dataframe tbody tr th:only-of-type {\n",
       "        vertical-align: middle;\n",
       "    }\n",
       "\n",
       "    .dataframe tbody tr th {\n",
       "        vertical-align: top;\n",
       "    }\n",
       "\n",
       "    .dataframe thead th {\n",
       "        text-align: right;\n",
       "    }\n",
       "</style>\n",
       "<table border=\"1\" class=\"dataframe\">\n",
       "  <thead>\n",
       "    <tr style=\"text-align: right;\">\n",
       "      <th></th>\n",
       "      <th>ID</th>\n",
       "      <th>Drug</th>\n",
       "    </tr>\n",
       "  </thead>\n",
       "  <tbody>\n",
       "    <tr>\n",
       "      <th>0</th>\n",
       "      <td>0</td>\n",
       "      <td>0</td>\n",
       "    </tr>\n",
       "    <tr>\n",
       "      <th>1</th>\n",
       "      <td>1</td>\n",
       "      <td>3</td>\n",
       "    </tr>\n",
       "    <tr>\n",
       "      <th>2</th>\n",
       "      <td>2</td>\n",
       "      <td>4</td>\n",
       "    </tr>\n",
       "    <tr>\n",
       "      <th>3</th>\n",
       "      <td>3</td>\n",
       "      <td>4</td>\n",
       "    </tr>\n",
       "    <tr>\n",
       "      <th>4</th>\n",
       "      <td>4</td>\n",
       "      <td>4</td>\n",
       "    </tr>\n",
       "  </tbody>\n",
       "</table>\n",
       "</div>"
      ],
      "text/plain": [
       "   ID  Drug\n",
       "0   0     0\n",
       "1   1     3\n",
       "2   2     4\n",
       "3   3     4\n",
       "4   4     4"
      ]
     },
     "metadata": {},
     "output_type": "display_data"
    }
   ],
   "source": [
    "import pandas as pd\n",
    "#데이터 로드\n",
    "x_train = pd.read_csv(\"https://raw.githubusercontent.com/Datamanim/datarepo/main/drug/x_train.csv\")\n",
    "y_train = pd.read_csv(\"https://raw.githubusercontent.com/Datamanim/datarepo/main/drug/y_train.csv\")\n",
    "x_test= pd.read_csv(\"https://raw.githubusercontent.com/Datamanim/datarepo/main/drug/x_test.csv\")\n",
    "\n",
    "display(x_train.head())\n",
    "display(y_train.head())"
   ]
  },
  {
   "cell_type": "code",
   "execution_count": 2,
   "metadata": {},
   "outputs": [
    {
     "name": "stdout",
     "output_type": "stream",
     "text": [
      "ID             0\n",
      "Age            0\n",
      "Sex            0\n",
      "BP             0\n",
      "Cholesterol    0\n",
      "Na_to_K        0\n",
      "dtype: int64\n",
      "ID             0\n",
      "Age            0\n",
      "Sex            0\n",
      "BP             0\n",
      "Cholesterol    0\n",
      "Na_to_K        0\n",
      "dtype: int64\n"
     ]
    }
   ],
   "source": [
    "# 결측치 확인\n",
    "print(x_train.isna().sum())\n",
    "print(x_test.isna().sum())"
   ]
  },
  {
   "cell_type": "code",
   "execution_count": 3,
   "metadata": {},
   "outputs": [],
   "source": [
    "# 불필요한 컬럼 제거\n",
    "x_test_ID = x_test['ID']\n",
    "x_train = x_train.drop(columns = ['ID'], axis =1)\n",
    "x_test = x_test.drop(columns = ['ID'], axis =1)"
   ]
  },
  {
   "cell_type": "code",
   "execution_count": 4,
   "metadata": {},
   "outputs": [
    {
     "name": "stdout",
     "output_type": "stream",
     "text": [
      "Index(['Sex', 'BP', 'Cholesterol'], dtype='object')\n",
      "Index(['Age', 'Na_to_K'], dtype='object')\n"
     ]
    }
   ],
   "source": [
    "# 범주형, 수치형 변수확인\n",
    "obj = x_train.select_dtypes('object').columns\n",
    "num = x_train.select_dtypes('number').columns\n",
    "\n",
    "print(obj)\n",
    "print(num)"
   ]
  },
  {
   "cell_type": "code",
   "execution_count": 5,
   "metadata": {},
   "outputs": [],
   "source": [
    "# 범주형 변수 전처리\n",
    "from sklearn.preprocessing import LabelEncoder\n",
    "encoder= LabelEncoder()\n",
    "x_train['Sex'] = encoder.fit_transform(x_train['Sex'])\n",
    "x_train['BP'] = encoder.fit_transform(x_train['BP'])\n",
    "x_train['Cholesterol'] = encoder.fit_transform(x_train['Cholesterol'])\n",
    "\n",
    "x_test['Sex'] = encoder.fit_transform(x_test['Sex'])\n",
    "x_test['BP'] = encoder.fit_transform(x_test['BP'])\n",
    "x_test['Cholesterol'] = encoder.fit_transform(x_test['Cholesterol'])"
   ]
  },
  {
   "cell_type": "code",
   "execution_count": 6,
   "metadata": {},
   "outputs": [],
   "source": [
    "# 수치형 변수 전처리\n",
    "from sklearn.preprocessing import StandardScaler\n",
    "scaler = StandardScaler()\n",
    "x_train = scaler.fit_transform(x_train)\n",
    "x_test = scaler.fit_transform(x_test)"
   ]
  },
  {
   "cell_type": "code",
   "execution_count": 7,
   "metadata": {},
   "outputs": [],
   "source": [
    "# 데이터 분리\n",
    "from sklearn.model_selection import train_test_split\n",
    "X_TRAIN, X_TEST, Y_TRAIN, Y_TEST = train_test_split(x_train, y_train['Drug'], test_size = 0.3, random_state = 1234)"
   ]
  },
  {
   "cell_type": "code",
   "execution_count": 8,
   "metadata": {},
   "outputs": [],
   "source": [
    "# 모델링\n",
    "from sklearn.ensemble import RandomForestClassifier\n",
    "model = RandomForestClassifier()\n",
    "model.fit(X_TRAIN, Y_TRAIN)\n",
    "Y_TEST_PRED = model.predict_proba(X_TEST)[:,1]"
   ]
  },
  {
   "cell_type": "code",
   "execution_count": null,
   "metadata": {},
   "outputs": [],
   "source": [
    "# 평가\n",
    "from sklearn.metrics import roc_auc_score\n",
    "print(roc_auc_score(Y_TEST, Y_TEST_PRED))"
   ]
  },
  {
   "cell_type": "code",
   "execution_count": 10,
   "metadata": {},
   "outputs": [],
   "source": [
    "# 최종제출\n",
    "y_test_pred = model.predict_proba(x_test)[:,1]\n",
    "result = pd.DataFrame(y_test_pred)\n",
    "final = pd.concat([x_test_ID, result], axis =1).rename(columns = {0 : 'Drug'})\n",
    "final.to_csv('123456.csv', index = False)"
   ]
  },
  {
   "cell_type": "code",
   "execution_count": 11,
   "metadata": {},
   "outputs": [
    {
     "name": "stdout",
     "output_type": "stream",
     "text": [
      "     ID  Drug\n",
      "0     8  0.00\n",
      "1     9  0.00\n",
      "2    14  0.46\n",
      "3    25  0.00\n",
      "4    26  0.09\n",
      "5    27  0.03\n",
      "6    41  0.04\n",
      "7    50  0.01\n",
      "8    53  0.00\n",
      "9    56  0.82\n",
      "10   59  0.04\n",
      "11   60  0.00\n",
      "12   65  0.01\n",
      "13   66  0.03\n",
      "14   69  0.23\n",
      "15   71  0.05\n",
      "16   75  0.02\n",
      "17   80  0.39\n",
      "18   92  0.00\n",
      "19   93  0.01\n",
      "20   94  0.03\n",
      "21   98  0.00\n",
      "22   99  0.89\n",
      "23  109  0.98\n",
      "24  110  0.02\n",
      "25  113  0.03\n",
      "26  117  0.12\n",
      "27  121  0.00\n",
      "28  125  0.01\n",
      "29  129  0.00\n",
      "30  140  0.04\n",
      "31  141  0.00\n",
      "32  145  0.02\n",
      "33  146  0.01\n",
      "34  147  0.05\n",
      "35  149  0.90\n",
      "36  161  0.00\n",
      "37  169  0.00\n",
      "38  171  0.00\n",
      "39  173  0.00\n",
      "40  177  0.84\n",
      "41  179  0.01\n",
      "42  197  0.00\n"
     ]
    }
   ],
   "source": [
    "# 제출확인\n",
    "check = pd.read_csv('123456.csv')\n",
    "print(check)"
   ]
  }
 ],
 "metadata": {
  "kernelspec": {
   "display_name": "ds_study",
   "language": "python",
   "name": "python3"
  },
  "language_info": {
   "codemirror_mode": {
    "name": "ipython",
    "version": 3
   },
   "file_extension": ".py",
   "mimetype": "text/x-python",
   "name": "python",
   "nbconvert_exporter": "python",
   "pygments_lexer": "ipython3",
   "version": "3.8.15"
  },
  "orig_nbformat": 4,
  "vscode": {
   "interpreter": {
    "hash": "48b47ef07f8cbb10516d394180ce5ec5d2bd717fb884a02594f05e6ba15d1713"
   }
  }
 },
 "nbformat": 4,
 "nbformat_minor": 2
}
